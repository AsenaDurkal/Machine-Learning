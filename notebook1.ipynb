{
 "cells": [
  {
   "cell_type": "code",
   "execution_count": 44,
   "id": "70936a76-f0a4-40b5-a475-0ed372e03bb1",
   "metadata": {},
   "outputs": [],
   "source": [
    "import pandas as pd"
   ]
  },
  {
   "cell_type": "code",
   "execution_count": 45,
   "id": "0c30948c-f127-4cc6-9505-10c9ee5cbaac",
   "metadata": {},
   "outputs": [],
   "source": [
    "# Read the CSV file\n",
    "data = pd.read_csv('myData.csv')"
   ]
  },
  {
   "cell_type": "code",
   "execution_count": 46,
   "id": "6703108b-ffa0-4e32-a070-0360b937a4db",
   "metadata": {},
   "outputs": [
    {
     "data": {
      "text/html": [
       "<div>\n",
       "<style scoped>\n",
       "    .dataframe tbody tr th:only-of-type {\n",
       "        vertical-align: middle;\n",
       "    }\n",
       "\n",
       "    .dataframe tbody tr th {\n",
       "        vertical-align: top;\n",
       "    }\n",
       "\n",
       "    .dataframe thead th {\n",
       "        text-align: right;\n",
       "    }\n",
       "</style>\n",
       "<table border=\"1\" class=\"dataframe\">\n",
       "  <thead>\n",
       "    <tr style=\"text-align: right;\">\n",
       "      <th></th>\n",
       "      <th>Status of existing checking account</th>\n",
       "      <th>Duration</th>\n",
       "      <th>Credit history</th>\n",
       "      <th>Purpose</th>\n",
       "      <th>Credit Amount</th>\n",
       "      <th>Savings account/bonds</th>\n",
       "      <th>Present employment since</th>\n",
       "      <th>Installment rate in percentage of dispsable income</th>\n",
       "      <th>Personal status and sex</th>\n",
       "      <th>Other debtors / guarantors</th>\n",
       "      <th>...</th>\n",
       "      <th>Property</th>\n",
       "      <th>Age</th>\n",
       "      <th>Other installment plans</th>\n",
       "      <th>Housing</th>\n",
       "      <th>Number of Existing credits at this bank</th>\n",
       "      <th>Job</th>\n",
       "      <th>Number of people being liable to provide maintenance for</th>\n",
       "      <th>Telephone</th>\n",
       "      <th>foreign worker</th>\n",
       "      <th>loan status</th>\n",
       "    </tr>\n",
       "  </thead>\n",
       "  <tbody>\n",
       "    <tr>\n",
       "      <th>0</th>\n",
       "      <td>A11</td>\n",
       "      <td>6</td>\n",
       "      <td>A34</td>\n",
       "      <td>A43</td>\n",
       "      <td>1169</td>\n",
       "      <td>A65</td>\n",
       "      <td>A75</td>\n",
       "      <td>4</td>\n",
       "      <td>A93</td>\n",
       "      <td>A101</td>\n",
       "      <td>...</td>\n",
       "      <td>A121</td>\n",
       "      <td>67</td>\n",
       "      <td>A143</td>\n",
       "      <td>A152</td>\n",
       "      <td>2</td>\n",
       "      <td>A173</td>\n",
       "      <td>1</td>\n",
       "      <td>A192</td>\n",
       "      <td>A201</td>\n",
       "      <td>1</td>\n",
       "    </tr>\n",
       "    <tr>\n",
       "      <th>1</th>\n",
       "      <td>A12</td>\n",
       "      <td>48</td>\n",
       "      <td>A32</td>\n",
       "      <td>A43</td>\n",
       "      <td>5951</td>\n",
       "      <td>A61</td>\n",
       "      <td>A73</td>\n",
       "      <td>2</td>\n",
       "      <td>A92</td>\n",
       "      <td>A101</td>\n",
       "      <td>...</td>\n",
       "      <td>A121</td>\n",
       "      <td>22</td>\n",
       "      <td>A143</td>\n",
       "      <td>A152</td>\n",
       "      <td>1</td>\n",
       "      <td>A173</td>\n",
       "      <td>1</td>\n",
       "      <td>A191</td>\n",
       "      <td>A201</td>\n",
       "      <td>2</td>\n",
       "    </tr>\n",
       "    <tr>\n",
       "      <th>2</th>\n",
       "      <td>A14</td>\n",
       "      <td>12</td>\n",
       "      <td>A34</td>\n",
       "      <td>A46</td>\n",
       "      <td>2096</td>\n",
       "      <td>A61</td>\n",
       "      <td>A74</td>\n",
       "      <td>2</td>\n",
       "      <td>A93</td>\n",
       "      <td>A101</td>\n",
       "      <td>...</td>\n",
       "      <td>A121</td>\n",
       "      <td>49</td>\n",
       "      <td>A143</td>\n",
       "      <td>A152</td>\n",
       "      <td>1</td>\n",
       "      <td>A172</td>\n",
       "      <td>2</td>\n",
       "      <td>A191</td>\n",
       "      <td>A201</td>\n",
       "      <td>1</td>\n",
       "    </tr>\n",
       "    <tr>\n",
       "      <th>3</th>\n",
       "      <td>A11</td>\n",
       "      <td>42</td>\n",
       "      <td>A32</td>\n",
       "      <td>A42</td>\n",
       "      <td>7882</td>\n",
       "      <td>A61</td>\n",
       "      <td>A74</td>\n",
       "      <td>2</td>\n",
       "      <td>A93</td>\n",
       "      <td>A103</td>\n",
       "      <td>...</td>\n",
       "      <td>A122</td>\n",
       "      <td>45</td>\n",
       "      <td>A143</td>\n",
       "      <td>A153</td>\n",
       "      <td>1</td>\n",
       "      <td>A173</td>\n",
       "      <td>2</td>\n",
       "      <td>A191</td>\n",
       "      <td>A201</td>\n",
       "      <td>1</td>\n",
       "    </tr>\n",
       "    <tr>\n",
       "      <th>4</th>\n",
       "      <td>A11</td>\n",
       "      <td>24</td>\n",
       "      <td>A33</td>\n",
       "      <td>A40</td>\n",
       "      <td>4870</td>\n",
       "      <td>A61</td>\n",
       "      <td>A73</td>\n",
       "      <td>3</td>\n",
       "      <td>A93</td>\n",
       "      <td>A101</td>\n",
       "      <td>...</td>\n",
       "      <td>A124</td>\n",
       "      <td>53</td>\n",
       "      <td>A143</td>\n",
       "      <td>A153</td>\n",
       "      <td>2</td>\n",
       "      <td>A173</td>\n",
       "      <td>2</td>\n",
       "      <td>A191</td>\n",
       "      <td>A201</td>\n",
       "      <td>2</td>\n",
       "    </tr>\n",
       "  </tbody>\n",
       "</table>\n",
       "<p>5 rows × 21 columns</p>\n",
       "</div>"
      ],
      "text/plain": [
       "  Status of existing checking account  Duration Credit history Purpose  \\\n",
       "0                                 A11         6            A34     A43   \n",
       "1                                 A12        48            A32     A43   \n",
       "2                                 A14        12            A34     A46   \n",
       "3                                 A11        42            A32     A42   \n",
       "4                                 A11        24            A33     A40   \n",
       "\n",
       "   Credit Amount Savings account/bonds Present employment since  \\\n",
       "0           1169                   A65                      A75   \n",
       "1           5951                   A61                      A73   \n",
       "2           2096                   A61                      A74   \n",
       "3           7882                   A61                      A74   \n",
       "4           4870                   A61                      A73   \n",
       "\n",
       "   Installment rate in percentage of dispsable income Personal status and sex  \\\n",
       "0                                                  4                      A93   \n",
       "1                                                  2                      A92   \n",
       "2                                                  2                      A93   \n",
       "3                                                  2                      A93   \n",
       "4                                                  3                      A93   \n",
       "\n",
       "  Other debtors / guarantors  ...  Property Age  Other installment plans  \\\n",
       "0                       A101  ...      A121  67                     A143   \n",
       "1                       A101  ...      A121  22                     A143   \n",
       "2                       A101  ...      A121  49                     A143   \n",
       "3                       A103  ...      A122  45                     A143   \n",
       "4                       A101  ...      A124  53                     A143   \n",
       "\n",
       "  Housing Number of Existing credits at this bank   Job  \\\n",
       "0    A152                                       2  A173   \n",
       "1    A152                                       1  A173   \n",
       "2    A152                                       1  A172   \n",
       "3    A153                                       1  A173   \n",
       "4    A153                                       2  A173   \n",
       "\n",
       "  Number of people being liable to provide maintenance for  Telephone  \\\n",
       "0                                                  1             A192   \n",
       "1                                                  1             A191   \n",
       "2                                                  2             A191   \n",
       "3                                                  2             A191   \n",
       "4                                                  2             A191   \n",
       "\n",
       "  foreign worker loan status  \n",
       "0           A201           1  \n",
       "1           A201           2  \n",
       "2           A201           1  \n",
       "3           A201           1  \n",
       "4           A201           2  \n",
       "\n",
       "[5 rows x 21 columns]"
      ]
     },
     "execution_count": 46,
     "metadata": {},
     "output_type": "execute_result"
    }
   ],
   "source": [
    "# To display the first few rows \n",
    "data.head()"
   ]
  },
  {
   "cell_type": "code",
   "execution_count": 47,
   "id": "d68f70d3-6e78-4159-8669-fdb3d007c897",
   "metadata": {},
   "outputs": [
    {
     "name": "stdout",
     "output_type": "stream",
     "text": [
      "Unique values for Status of existing checking account: ['A11' 'A12' 'A14' 'A13']\n"
     ]
    }
   ],
   "source": [
    "unique_values_status = data['Status of existing checking account'].unique()\n",
    "print(f\"Unique values for Status of existing checking account: {unique_values_status}\")"
   ]
  },
  {
   "cell_type": "code",
   "execution_count": 48,
   "id": "530b1340-39e4-43bc-a76d-0ebc4f2f214c",
   "metadata": {},
   "outputs": [
    {
     "name": "stdout",
     "output_type": "stream",
     "text": [
      "Unique values for Credit history: ['A34' 'A32' 'A33' 'A30' 'A31']\n"
     ]
    }
   ],
   "source": [
    "unique_values_credit_history = data['Credit history'].unique()\n",
    "print(f\"Unique values for Credit history: {unique_values_credit_history}\")"
   ]
  },
  {
   "cell_type": "code",
   "execution_count": 49,
   "id": "dc44fbb3-4a12-46d3-8a8c-94848222c7f2",
   "metadata": {},
   "outputs": [
    {
     "name": "stdout",
     "output_type": "stream",
     "text": [
      "Unique values for Purpose: ['A43' 'A46' 'A42' 'A40' 'A41' 'A49' 'A44' 'A45' 'A410' 'A48']\n"
     ]
    }
   ],
   "source": [
    "unique_values_purpose = data['Purpose'].unique()\n",
    "print(f\"Unique values for Purpose: {unique_values_purpose}\")"
   ]
  },
  {
   "cell_type": "code",
   "execution_count": 50,
   "id": "624df765-0b16-4be3-8d63-2e8ba3bcb2f1",
   "metadata": {},
   "outputs": [
    {
     "name": "stdout",
     "output_type": "stream",
     "text": [
      "Unique values for Savings account/bonds: ['A65' 'A61' 'A63' 'A64' 'A62']\n"
     ]
    }
   ],
   "source": [
    "unique_values_savings = data['Savings account/bonds'].unique()\n",
    "print(f\"Unique values for Savings account/bonds: {unique_values_savings}\")"
   ]
  },
  {
   "cell_type": "code",
   "execution_count": 51,
   "id": "d9d1fdb1-8b02-433d-86fd-ae88caeafe60",
   "metadata": {},
   "outputs": [
    {
     "name": "stdout",
     "output_type": "stream",
     "text": [
      "Unique values for Present employment since: ['A75' 'A73' 'A74' 'A71' 'A72']\n"
     ]
    }
   ],
   "source": [
    "unique_values_employment = data['Present employment since'].unique()\n",
    "print(f\"Unique values for Present employment since: {unique_values_employment}\")"
   ]
  },
  {
   "cell_type": "code",
   "execution_count": 52,
   "id": "08bb801c-b466-468a-91e7-115da7e90cda",
   "metadata": {},
   "outputs": [
    {
     "name": "stdout",
     "output_type": "stream",
     "text": [
      "Unique values for Personal status and sex: ['A93' 'A92' 'A91' 'A94']\n"
     ]
    }
   ],
   "source": [
    "unique_values_personal_status = data['Personal status and sex'].unique()\n",
    "print(f\"Unique values for Personal status and sex: {unique_values_personal_status}\")"
   ]
  },
  {
   "cell_type": "code",
   "execution_count": 53,
   "id": "29fec081-5aae-405c-8903-147bc2eb76df",
   "metadata": {},
   "outputs": [
    {
     "name": "stdout",
     "output_type": "stream",
     "text": [
      "Unique values for Other debtors / guarantors: ['A101' 'A103' 'A102']\n"
     ]
    }
   ],
   "source": [
    "unique_values_debtors = data['Other debtors / guarantors'].unique()\n",
    "print(f\"Unique values for Other debtors / guarantors: {unique_values_debtors}\")"
   ]
  },
  {
   "cell_type": "code",
   "execution_count": 54,
   "id": "3dadb773-45c4-4de9-ad8d-0314037bfe03",
   "metadata": {},
   "outputs": [
    {
     "name": "stdout",
     "output_type": "stream",
     "text": [
      "Unique values for Property: ['A121' 'A122' 'A124' 'A123']\n"
     ]
    }
   ],
   "source": [
    "unique_values_property = data['Property'].unique()\n",
    "print(f\"Unique values for Property: {unique_values_property}\")"
   ]
  },
  {
   "cell_type": "code",
   "execution_count": 55,
   "id": "4bd48131-3841-4727-aeba-f8545c7b12e0",
   "metadata": {},
   "outputs": [
    {
     "name": "stdout",
     "output_type": "stream",
     "text": [
      "Unique values for Housing: ['A152' 'A153' 'A151']\n"
     ]
    }
   ],
   "source": [
    "unique_values_housing = data['Housing'].unique()\n",
    "print(f\"Unique values for Housing: {unique_values_housing}\")"
   ]
  },
  {
   "cell_type": "code",
   "execution_count": 56,
   "id": "32852814-fcfd-477d-a07f-1b895ed8ce72",
   "metadata": {},
   "outputs": [
    {
     "name": "stdout",
     "output_type": "stream",
     "text": [
      "Unique values for Job: ['A173' 'A172' 'A174' 'A171']\n"
     ]
    }
   ],
   "source": [
    "unique_values_job = data['Job'].unique()\n",
    "print(f\"Unique values for Job: {unique_values_job}\")"
   ]
  },
  {
   "cell_type": "code",
   "execution_count": 57,
   "id": "425ce4ab-5a15-4bd5-a395-38ebdc99d949",
   "metadata": {},
   "outputs": [
    {
     "name": "stdout",
     "output_type": "stream",
     "text": [
      "Unique values for Telephone: ['A192' 'A191']\n"
     ]
    }
   ],
   "source": [
    "unique_values_telephone = data['Telephone'].unique()\n",
    "print(f\"Unique values for Telephone: {unique_values_telephone}\")"
   ]
  },
  {
   "cell_type": "code",
   "execution_count": 58,
   "id": "85c557f5-a6a8-409e-8f55-a98ecd826104",
   "metadata": {},
   "outputs": [
    {
     "name": "stdout",
     "output_type": "stream",
     "text": [
      "Unique values for Foreign worker: ['A201' 'A202']\n"
     ]
    }
   ],
   "source": [
    "unique_values_foreign_worker = data['foreign worker'].unique()\n",
    "print(f\"Unique values for Foreign worker: {unique_values_foreign_worker}\")"
   ]
  },
  {
   "cell_type": "code",
   "execution_count": 59,
   "id": "edbb4bc4-35ec-45b2-b475-5af57e619faf",
   "metadata": {},
   "outputs": [
    {
     "name": "stdout",
     "output_type": "stream",
     "text": [
      "Basic Statistics for Duration:\n",
      "count    1000.000000\n",
      "mean       20.903000\n",
      "std        12.058814\n",
      "min         4.000000\n",
      "25%        12.000000\n",
      "50%        18.000000\n",
      "75%        24.000000\n",
      "max        72.000000\n",
      "Name: Duration, dtype: float64\n"
     ]
    }
   ],
   "source": [
    "# Basic statistics\n",
    "statistics_duration = data['Duration'].describe()\n",
    "print(\"Basic Statistics for Duration:\")\n",
    "print(statistics_duration)"
   ]
  },
  {
   "cell_type": "code",
   "execution_count": 60,
   "id": "b4f7bd04-4be9-4f7d-9fac-b3c578414e56",
   "metadata": {},
   "outputs": [
    {
     "name": "stdout",
     "output_type": "stream",
     "text": [
      "Basic Statistics for Credit Amount:\n",
      "count     1000.000000\n",
      "mean      3271.258000\n",
      "std       2822.736876\n",
      "min        250.000000\n",
      "25%       1365.500000\n",
      "50%       2319.500000\n",
      "75%       3972.250000\n",
      "max      18424.000000\n",
      "Name: Credit Amount, dtype: float64\n"
     ]
    }
   ],
   "source": [
    "statistics_credit_amount = data['Credit Amount'].describe()\n",
    "print(\"Basic Statistics for Credit Amount:\")\n",
    "print(statistics_credit_amount)"
   ]
  },
  {
   "cell_type": "code",
   "execution_count": 61,
   "id": "38924c05-5bb5-48c9-8847-b0c6043b567f",
   "metadata": {},
   "outputs": [
    {
     "name": "stdout",
     "output_type": "stream",
     "text": [
      "Basic Statistics for Installment rate:\n",
      "count    1000.000000\n",
      "mean        2.973000\n",
      "std         1.118715\n",
      "min         1.000000\n",
      "25%         2.000000\n",
      "50%         3.000000\n",
      "75%         4.000000\n",
      "max         4.000000\n",
      "Name: Installment rate in percentage of dispsable income, dtype: float64\n"
     ]
    }
   ],
   "source": [
    "statistics_installment_rate = data['Installment rate in percentage of dispsable income'].describe()\n",
    "print(\"Basic Statistics for Installment rate:\")\n",
    "print(statistics_installment_rate)"
   ]
  },
  {
   "cell_type": "code",
   "execution_count": 62,
   "id": "4a2360ef-0cea-4f54-a940-507517bb8189",
   "metadata": {},
   "outputs": [
    {
     "name": "stdout",
     "output_type": "stream",
     "text": [
      "Basic Statistics for Age:\n",
      "count    1000.000000\n",
      "mean       35.546000\n",
      "std        11.375469\n",
      "min        19.000000\n",
      "25%        27.000000\n",
      "50%        33.000000\n",
      "75%        42.000000\n",
      "max        75.000000\n",
      "Name: Age, dtype: float64\n"
     ]
    }
   ],
   "source": [
    "statistics_age = data['Age'].describe()\n",
    "print(\"Basic Statistics for Age:\")\n",
    "print(statistics_age)"
   ]
  },
  {
   "cell_type": "code",
   "execution_count": 63,
   "id": "3afadf8e-3b13-49da-9eae-38374635d62d",
   "metadata": {},
   "outputs": [
    {
     "name": "stdout",
     "output_type": "stream",
     "text": [
      "Basic Statistics for Number of existing credits at this bank:\n",
      "count    1000.000000\n",
      "mean        1.407000\n",
      "std         0.577654\n",
      "min         1.000000\n",
      "25%         1.000000\n",
      "50%         1.000000\n",
      "75%         2.000000\n",
      "max         4.000000\n",
      "Name: Number of Existing credits at this bank, dtype: float64\n"
     ]
    }
   ],
   "source": [
    "statistics_num_credits = data['Number of Existing credits at this bank'].describe()\n",
    "print(\"Basic Statistics for Number of existing credits at this bank:\")\n",
    "print(statistics_num_credits)"
   ]
  },
  {
   "cell_type": "code",
   "execution_count": 64,
   "id": "51636497-dd28-440d-9f42-c8dd4c7f61db",
   "metadata": {},
   "outputs": [
    {
     "name": "stdout",
     "output_type": "stream",
     "text": [
      "Basic Statistics for Number of people being liable to provide maintenance for:\n",
      "count    1000.000000\n",
      "mean        1.155000\n",
      "std         0.362086\n",
      "min         1.000000\n",
      "25%         1.000000\n",
      "50%         1.000000\n",
      "75%         1.000000\n",
      "max         2.000000\n",
      "Name: Number of people being liable to provide maintenance for, dtype: float64\n"
     ]
    }
   ],
   "source": [
    "statistics_num_people = data['Number of people being liable to provide maintenance for'].describe()\n",
    "print(\"Basic Statistics for Number of people being liable to provide maintenance for:\")\n",
    "print(statistics_num_people)"
   ]
  },
  {
   "cell_type": "code",
   "execution_count": 65,
   "id": "30c95d2a-d347-413e-bf0d-c4487858c6db",
   "metadata": {},
   "outputs": [],
   "source": [
    "#Identifying te Target Variable\n",
    "target_variable = data['loan status']"
   ]
  },
  {
   "cell_type": "code",
   "execution_count": 66,
   "id": "ffb7264d-010e-4bed-9747-a6f10829b4d0",
   "metadata": {},
   "outputs": [
    {
     "name": "stdout",
     "output_type": "stream",
     "text": [
      "Index(['Status of existing checking account', 'Duration', 'Credit history',\n",
      "       'Purpose', 'Credit Amount', 'Savings account/bonds',\n",
      "       'Present employment since',\n",
      "       'Installment rate in percentage of dispsable income',\n",
      "       'Personal status and sex', 'Other debtors / guarantors',\n",
      "       'Present residence since', 'Property', 'Age', 'Other installment plans',\n",
      "       'Housing', 'Number of Existing credits at this bank', 'Job',\n",
      "       'Number of people being liable to provide maintenance for', 'Telephone',\n",
      "       'foreign worker', 'loan status'],\n",
      "      dtype='object')\n"
     ]
    }
   ],
   "source": [
    "print(data.columns)"
   ]
  },
  {
   "cell_type": "code",
   "execution_count": 67,
   "id": "57c4f440-912f-4991-813d-f16f582dfdd7",
   "metadata": {},
   "outputs": [],
   "source": [
    "#Identifying Independent Features\n",
    "independent_features = data[['Status of existing checking account', 'Duration', 'Credit history',\n",
    "       'Purpose', 'Credit Amount', 'Savings account/bonds',\n",
    "       'Present employment since',\n",
    "       'Installment rate in percentage of dispsable income',\n",
    "       'Personal status and sex', 'Other debtors / guarantors',\n",
    "       'Present residence since', 'Property', 'Age', 'Other installment plans',\n",
    "       'Housing', 'Number of Existing credits at this bank', 'Job',\n",
    "       'Number of people being liable to provide maintenance for', 'Telephone',\n",
    "       'foreign worker',]]"
   ]
  },
  {
   "cell_type": "code",
   "execution_count": null,
   "id": "3f4ac39a-70aa-4ad0-bd23-02c6a4cc1355",
   "metadata": {},
   "outputs": [],
   "source": []
  },
  {
   "cell_type": "code",
   "execution_count": null,
   "id": "b14a4b6d-6b6d-4653-b044-f8a2b03af743",
   "metadata": {},
   "outputs": [],
   "source": []
  }
 ],
 "metadata": {
  "kernelspec": {
   "display_name": "Python 3 (ipykernel)",
   "language": "python",
   "name": "python3"
  },
  "language_info": {
   "codemirror_mode": {
    "name": "ipython",
    "version": 3
   },
   "file_extension": ".py",
   "mimetype": "text/x-python",
   "name": "python",
   "nbconvert_exporter": "python",
   "pygments_lexer": "ipython3",
   "version": "3.12.1"
  }
 },
 "nbformat": 4,
 "nbformat_minor": 5
}
